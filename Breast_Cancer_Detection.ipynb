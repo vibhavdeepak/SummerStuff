{
  "nbformat": 4,
  "nbformat_minor": 0,
  "metadata": {
    "colab": {
      "provenance": []
    },
    "kernelspec": {
      "name": "python3",
      "display_name": "Python 3"
    },
    "language_info": {
      "name": "python"
    }
  },
  "cells": [
    {
      "cell_type": "code",
      "execution_count": 1,
      "metadata": {
        "id": "ZZvnHrArU66e"
      },
      "outputs": [],
      "source": [
        "import sklearn\n",
        "from sklearn import svm\n",
        "from sklearn import datasets"
      ]
    },
    {
      "cell_type": "code",
      "source": [
        "cancer = datasets.load_breast_cancer()\n"
      ],
      "metadata": {
        "id": "qi20GkmVVH3Z"
      },
      "execution_count": 2,
      "outputs": []
    },
    {
      "cell_type": "code",
      "source": [
        "print(\"Features: \", cancer.feature_names)\n"
      ],
      "metadata": {
        "colab": {
          "base_uri": "https://localhost:8080/"
        },
        "id": "fI7XpbNBVUbP",
        "outputId": "24a4789c-97da-454f-b047-63fec617dd63"
      },
      "execution_count": 3,
      "outputs": [
        {
          "output_type": "stream",
          "name": "stdout",
          "text": [
            "Features:  ['mean radius' 'mean texture' 'mean perimeter' 'mean area'\n",
            " 'mean smoothness' 'mean compactness' 'mean concavity'\n",
            " 'mean concave points' 'mean symmetry' 'mean fractal dimension'\n",
            " 'radius error' 'texture error' 'perimeter error' 'area error'\n",
            " 'smoothness error' 'compactness error' 'concavity error'\n",
            " 'concave points error' 'symmetry error' 'fractal dimension error'\n",
            " 'worst radius' 'worst texture' 'worst perimeter' 'worst area'\n",
            " 'worst smoothness' 'worst compactness' 'worst concavity'\n",
            " 'worst concave points' 'worst symmetry' 'worst fractal dimension']\n"
          ]
        }
      ]
    },
    {
      "cell_type": "code",
      "source": [
        "print(\"Labels: \", cancer.target_names)\n"
      ],
      "metadata": {
        "colab": {
          "base_uri": "https://localhost:8080/"
        },
        "id": "_j82tugsVW8V",
        "outputId": "63c71a63-370e-4d28-b034-ad6c4d568d47"
      },
      "execution_count": 4,
      "outputs": [
        {
          "output_type": "stream",
          "name": "stdout",
          "text": [
            "Labels:  ['malignant' 'benign']\n"
          ]
        }
      ]
    },
    {
      "cell_type": "code",
      "source": [
        "x = cancer.data  # All of the features\n",
        "y = cancer.target  # All of the labels\n",
        "\n",
        "x_train, x_test, y_train, y_test = sklearn.model_selection.train_test_split(x, y, test_size=0.2)"
      ],
      "metadata": {
        "id": "rWnMNd5AVZCn"
      },
      "execution_count": 5,
      "outputs": []
    },
    {
      "cell_type": "code",
      "source": [
        "print(x_train[:5], y_train[:5])\n"
      ],
      "metadata": {
        "colab": {
          "base_uri": "https://localhost:8080/"
        },
        "id": "mHqmKkL9VesU",
        "outputId": "c1f36772-28da-49e0-98b0-0a7ee255f828"
      },
      "execution_count": 6,
      "outputs": [
        {
          "output_type": "stream",
          "name": "stdout",
          "text": [
            "[[1.775e+01 2.803e+01 1.173e+02 9.816e+02 9.997e-02 1.314e-01 1.698e-01\n",
            "  8.293e-02 1.713e-01 5.916e-02 3.897e-01 1.077e+00 2.873e+00 4.395e+01\n",
            "  4.714e-03 2.015e-02 3.697e-02 1.110e-02 1.237e-02 2.556e-03 2.153e+01\n",
            "  3.854e+01 1.454e+02 1.437e+03 1.401e-01 3.762e-01 6.399e-01 1.970e-01\n",
            "  2.972e-01 9.075e-02]\n",
            " [1.702e+01 2.398e+01 1.128e+02 8.993e+02 1.197e-01 1.496e-01 2.417e-01\n",
            "  1.203e-01 2.248e-01 6.382e-02 6.009e-01 1.398e+00 3.999e+00 6.778e+01\n",
            "  8.268e-03 3.082e-02 5.042e-02 1.112e-02 2.102e-02 3.854e-03 2.088e+01\n",
            "  3.209e+01 1.361e+02 1.344e+03 1.634e-01 3.559e-01 5.588e-01 1.847e-01\n",
            "  3.530e-01 8.482e-02]\n",
            " [1.223e+01 1.956e+01 7.854e+01 4.610e+02 9.586e-02 8.087e-02 4.187e-02\n",
            "  4.107e-02 1.979e-01 6.013e-02 3.534e-01 1.326e+00 2.308e+00 2.724e+01\n",
            "  7.514e-03 1.779e-02 1.401e-02 1.140e-02 1.503e-02 3.338e-03 1.444e+01\n",
            "  2.836e+01 9.215e+01 6.384e+02 1.429e-01 2.042e-01 1.377e-01 1.080e-01\n",
            "  2.668e-01 8.174e-02]\n",
            " [1.131e+01 1.904e+01 7.180e+01 3.941e+02 8.139e-02 4.701e-02 3.709e-02\n",
            "  2.230e-02 1.516e-01 5.667e-02 2.727e-01 9.429e-01 1.831e+00 1.815e+01\n",
            "  9.282e-03 9.216e-03 2.063e-02 8.965e-03 2.183e-02 2.146e-03 1.233e+01\n",
            "  2.384e+01 7.800e+01 4.667e+02 1.290e-01 9.148e-02 1.444e-01 6.961e-02\n",
            "  2.400e-01 6.641e-02]\n",
            " [1.504e+01 1.674e+01 9.873e+01 6.894e+02 9.883e-02 1.364e-01 7.721e-02\n",
            "  6.142e-02 1.668e-01 6.869e-02 3.720e-01 8.423e-01 2.304e+00 3.484e+01\n",
            "  4.123e-03 1.819e-02 1.996e-02 1.004e-02 1.055e-02 3.237e-03 1.676e+01\n",
            "  2.043e+01 1.097e+02 8.569e+02 1.135e-01 2.176e-01 1.856e-01 1.018e-01\n",
            "  2.177e-01 8.549e-02]] [0 0 1 1 1]\n"
          ]
        }
      ]
    },
    {
      "cell_type": "code",
      "source": [],
      "metadata": {
        "id": "y9-mcfFwVhGp"
      },
      "execution_count": null,
      "outputs": []
    }
  ]
}